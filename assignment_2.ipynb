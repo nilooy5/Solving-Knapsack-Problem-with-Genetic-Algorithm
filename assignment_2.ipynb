{
 "cells": [
  {
   "cell_type": "code",
   "execution_count": 21,
   "outputs": [],
   "source": [
    "import random"
   ],
   "metadata": {
    "collapsed": false,
    "ExecuteTime": {
     "end_time": "2023-10-21T05:51:44.014933500Z",
     "start_time": "2023-10-21T05:51:43.999311500Z"
    }
   },
   "id": "ae497a58e1b37500"
  },
  {
   "cell_type": "code",
   "execution_count": 22,
   "outputs": [],
   "source": [
    "# Knapsack items\n",
    "items = [\n",
    "    {'weight': 5, 'value': 10},\n",
    "    {'weight': 8, 'value': 40},\n",
    "    {'weight': 3, 'value': 30},\n",
    "    {'weight': 7, 'value': 25},\n",
    "    {'weight': 6, 'value': 50},\n",
    "    {'weight': 9, 'value': 35},\n",
    "    {'weight': 2, 'value': 40},\n",
    "    {'weight': 4, 'value': 10},\n",
    "    {'weight': 7, 'value': 20},\n",
    "    {'weight': 1, 'value': 10}\n",
    "]\n",
    "MAX_WEIGHT = 35"
   ],
   "metadata": {
    "collapsed": false,
    "ExecuteTime": {
     "end_time": "2023-10-21T05:51:44.045494200Z",
     "start_time": "2023-10-21T05:51:44.014933500Z"
    }
   },
   "id": "225619aea5d4f67b"
  },
  {
   "cell_type": "code",
   "execution_count": 23,
   "outputs": [],
   "source": [
    "# GA parameters\n",
    "POP_SIZE = 100\n",
    "CROSSOVER_RATE = 0.8\n",
    "MUTATION_RATE = 0.02\n",
    "MAX_GENERATIONS = 1000\n",
    "\n",
    "def fitness(chromosome):\n",
    "    total_value = 0\n",
    "    total_weight = 0\n",
    "    for i in range(len(chromosome)):\n",
    "        if chromosome[i] == 1:\n",
    "            total_value += items[i]['value']\n",
    "            total_weight += items[i]['weight']\n",
    "    if total_weight > MAX_WEIGHT:\n",
    "        return 0\n",
    "    return total_value\n"
   ],
   "metadata": {
    "collapsed": false,
    "ExecuteTime": {
     "end_time": "2023-10-21T05:51:44.045494200Z",
     "start_time": "2023-10-21T05:51:44.029866100Z"
    }
   },
   "id": "686d534866a743a9"
  },
  {
   "cell_type": "code",
   "execution_count": 24,
   "outputs": [],
   "source": [
    "def mutate(chromosome):\n",
    "    for i in range(len(chromosome)):\n",
    "        if random.random() < MUTATION_RATE:\n",
    "            chromosome[i] = 1 - chromosome[i]\n",
    "    return chromosome\n"
   ],
   "metadata": {
    "collapsed": false,
    "ExecuteTime": {
     "end_time": "2023-10-21T05:51:44.061137600Z",
     "start_time": "2023-10-21T05:51:44.045494200Z"
    }
   },
   "id": "8ba3b38c9f12fd98"
  },
  {
   "cell_type": "code",
   "execution_count": 25,
   "outputs": [],
   "source": [
    "def crossover(parent1, parent2):\n",
    "    if random.random() < CROSSOVER_RATE:\n",
    "        point = random.randint(1, len(parent1)-1)\n",
    "        child1 = parent1[:point] + parent2[point:]\n",
    "        child2 = parent2[:point] + parent1[point:]\n",
    "        return child1, child2\n",
    "    else:\n",
    "        return parent1, parent2\n"
   ],
   "metadata": {
    "collapsed": false,
    "ExecuteTime": {
     "end_time": "2023-10-21T05:51:44.076759Z",
     "start_time": "2023-10-21T05:51:44.061137600Z"
    }
   },
   "id": "14f08df2b3c8bde5"
  },
  {
   "cell_type": "code",
   "execution_count": 26,
   "outputs": [],
   "source": [
    "def selection(population):\n",
    "    selected = []\n",
    "    pop_fitness = [fitness(p) for p in population]\n",
    "    total_fitness = sum(pop_fitness)\n",
    "    for i in range(0, POP_SIZE, 2):\n",
    "        parents = random.choices(population, weights=pop_fitness, k=2)\n",
    "        children = crossover(parents[0], parents[1])\n",
    "        selected.extend(children)\n",
    "    return selected\n"
   ],
   "metadata": {
    "collapsed": false,
    "ExecuteTime": {
     "end_time": "2023-10-21T05:51:44.092385700Z",
     "start_time": "2023-10-21T05:51:44.076759Z"
    }
   },
   "id": "fe756742fda3e34f"
  },
  {
   "cell_type": "code",
   "execution_count": 27,
   "outputs": [],
   "source": [
    "def genetic_algorithm():\n",
    "    # Initialize population\n",
    "    population = [[random.randint(0, 1) for _ in range(10)] for _ in range(POP_SIZE)]\n",
    "    \n",
    "    for generation in range(MAX_GENERATIONS):\n",
    "        population = selection(population)\n",
    "        for i in range(POP_SIZE):\n",
    "            population[i] = mutate(population[i])\n",
    "\n",
    "        # Find the best solution of this generation\n",
    "        best_chromosome = max(population, key=fitness)\n",
    "        if generation % 100 == 0 or generation == MAX_GENERATIONS-1:\n",
    "            print(f\"Generation {generation}: Value = {fitness(best_chromosome)} || Items = {best_chromosome}\")\n",
    "\n",
    "    return max(population, key=fitness)\n"
   ],
   "metadata": {
    "collapsed": false,
    "ExecuteTime": {
     "end_time": "2023-10-21T05:51:44.116016300Z",
     "start_time": "2023-10-21T05:51:44.092385700Z"
    }
   },
   "id": "83dd16ea7a787858"
  },
  {
   "cell_type": "code",
   "execution_count": 28,
   "outputs": [
    {
     "name": "stdout",
     "output_type": "stream",
     "text": [
      "Generation 0: Value = 205 || Items = [0, 1, 1, 0, 1, 1, 1, 1, 0, 0]\n",
      "Generation 100: Value = 220 || Items = [0, 1, 1, 1, 1, 1, 1, 0, 0, 0]\n",
      "Generation 200: Value = 215 || Items = [0, 1, 1, 1, 1, 0, 1, 0, 1, 1]\n",
      "Generation 300: Value = 215 || Items = [0, 1, 1, 0, 1, 1, 1, 1, 0, 1]\n",
      "Generation 400: Value = 215 || Items = [0, 1, 1, 0, 1, 1, 1, 0, 1, 0]\n",
      "Generation 500: Value = 215 || Items = [0, 1, 1, 0, 1, 1, 1, 1, 0, 1]\n",
      "Generation 600: Value = 220 || Items = [0, 1, 1, 1, 1, 1, 1, 0, 0, 0]\n",
      "Generation 700: Value = 215 || Items = [1, 1, 1, 0, 1, 1, 1, 0, 0, 1]\n",
      "Generation 800: Value = 220 || Items = [0, 1, 1, 1, 1, 1, 1, 0, 0, 0]\n",
      "Generation 900: Value = 220 || Items = [0, 1, 1, 1, 1, 1, 1, 0, 0, 0]\n",
      "Generation 999: Value = 220 || Items = [0, 1, 1, 1, 1, 1, 1, 0, 0, 0]\n",
      "Best Solution: Value = 220 || Items = [0, 1, 1, 1, 1, 1, 1, 0, 0, 0]\n"
     ]
    }
   ],
   "source": [
    "best_solution = genetic_algorithm()\n",
    "print(f\"Best Solution: Value = {fitness(best_solution)} || Items = {best_solution}\")"
   ],
   "metadata": {
    "collapsed": false,
    "ExecuteTime": {
     "end_time": "2023-10-21T05:51:44.552660600Z",
     "start_time": "2023-10-21T05:51:44.107994100Z"
    }
   },
   "id": "45f233581344f73b"
  }
 ],
 "metadata": {
  "kernelspec": {
   "display_name": "Python 3",
   "language": "python",
   "name": "python3"
  },
  "language_info": {
   "codemirror_mode": {
    "name": "ipython",
    "version": 2
   },
   "file_extension": ".py",
   "mimetype": "text/x-python",
   "name": "python",
   "nbconvert_exporter": "python",
   "pygments_lexer": "ipython2",
   "version": "2.7.6"
  }
 },
 "nbformat": 4,
 "nbformat_minor": 5
}
