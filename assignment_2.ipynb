{
 "cells": [
  {
   "cell_type": "code",
   "execution_count": 42,
   "outputs": [],
   "source": [
    "import random\n",
    "import matplotlib.pyplot as plt"
   ],
   "metadata": {
    "collapsed": false,
    "ExecuteTime": {
     "end_time": "2023-10-23T03:20:14.215235500Z",
     "start_time": "2023-10-23T03:20:14.183969600Z"
    }
   },
   "id": "ae497a58e1b37500"
  },
  {
   "cell_type": "markdown",
   "source": [
    "#### Setting up the Knapsack items and maximum weight"
   ],
   "metadata": {
    "collapsed": false
   },
   "id": "222e7e918ce76adb"
  },
  {
   "cell_type": "code",
   "execution_count": 43,
   "outputs": [
    {
     "data": {
      "text/plain": "[{'weight': 5, 'value': 10},\n {'weight': 8, 'value': 40},\n {'weight': 3, 'value': 30},\n {'weight': 7, 'value': 25},\n {'weight': 6, 'value': 50},\n {'weight': 9, 'value': 35},\n {'weight': 2, 'value': 40},\n {'weight': 4, 'value': 10},\n {'weight': 7, 'value': 20},\n {'weight': 1, 'value': 10}]"
     },
     "execution_count": 43,
     "metadata": {},
     "output_type": "execute_result"
    }
   ],
   "source": [
    "# Knapsack items\n",
    "items = [\n",
    "    {'weight': 5, 'value': 10},\n",
    "    {'weight': 8, 'value': 40},\n",
    "    {'weight': 3, 'value': 30},\n",
    "    {'weight': 7, 'value': 25},\n",
    "    {'weight': 6, 'value': 50},\n",
    "    {'weight': 9, 'value': 35},\n",
    "    {'weight': 2, 'value': 40},\n",
    "    {'weight': 4, 'value': 10},\n",
    "    {'weight': 7, 'value': 20},\n",
    "    {'weight': 1, 'value': 10}\n",
    "]\n",
    "MAX_WEIGHT = 35\n",
    "\n",
    "items"
   ],
   "metadata": {
    "collapsed": false,
    "ExecuteTime": {
     "end_time": "2023-10-23T03:20:14.298871700Z",
     "start_time": "2023-10-23T03:20:14.199615300Z"
    }
   },
   "id": "225619aea5d4f67b"
  },
  {
   "cell_type": "markdown",
   "source": [
    "#### Defining the GA parameters"
   ],
   "metadata": {
    "collapsed": false
   },
   "id": "39140f773912abf9"
  },
  {
   "cell_type": "code",
   "execution_count": 44,
   "outputs": [],
   "source": [
    "# GA parameters\n",
    "POP_SIZE = 100\n",
    "CROSSOVER_RATE = 0.8\n",
    "MUTATION_RATE = 0.02\n",
    "MAX_GENERATIONS = 1000"
   ],
   "metadata": {
    "collapsed": false,
    "ExecuteTime": {
     "end_time": "2023-10-23T03:20:14.298871700Z",
     "start_time": "2023-10-23T03:20:14.215235500Z"
    }
   },
   "id": "686d534866a743a9"
  },
  {
   "cell_type": "markdown",
   "source": [
    "### Defining the GA functions\n",
    "#### Fitness function"
   ],
   "metadata": {
    "collapsed": false
   },
   "id": "62092645765c5752"
  },
  {
   "cell_type": "code",
   "execution_count": 45,
   "outputs": [],
   "source": [
    "def fitness(chromosome):\n",
    "    total_value = 0\n",
    "    total_weight = 0\n",
    "    for i in range(len(chromosome)):\n",
    "        if chromosome[i] == 1:\n",
    "            total_value += items[i]['value']\n",
    "            total_weight += items[i]['weight']\n",
    "    if total_weight > MAX_WEIGHT:\n",
    "        return 0\n",
    "    return total_value"
   ],
   "metadata": {
    "collapsed": false,
    "ExecuteTime": {
     "end_time": "2023-10-23T03:20:14.314481600Z",
     "start_time": "2023-10-23T03:20:14.230845700Z"
    }
   },
   "id": "79538738626ca33d"
  },
  {
   "cell_type": "markdown",
   "source": [
    "#### Mutation function"
   ],
   "metadata": {
    "collapsed": false
   },
   "id": "cbfa88895837e7b1"
  },
  {
   "cell_type": "code",
   "execution_count": 46,
   "outputs": [],
   "source": [
    "def mutate(chromosome):\n",
    "    for i in range(len(chromosome)):\n",
    "        if random.random() < MUTATION_RATE:\n",
    "            chromosome[i] = 1 - chromosome[i]\n",
    "    return chromosome\n"
   ],
   "metadata": {
    "collapsed": false,
    "ExecuteTime": {
     "end_time": "2023-10-23T03:20:14.314481600Z",
     "start_time": "2023-10-23T03:20:14.246482600Z"
    }
   },
   "id": "8ba3b38c9f12fd98"
  },
  {
   "cell_type": "markdown",
   "source": [
    "#### Crossover function"
   ],
   "metadata": {
    "collapsed": false
   },
   "id": "7760eae7e7f2a51e"
  },
  {
   "cell_type": "code",
   "execution_count": 47,
   "outputs": [],
   "source": [
    "def crossover(parent1, parent2):\n",
    "    if random.random() < CROSSOVER_RATE:\n",
    "        point = random.randint(1, len(parent1)-1)\n",
    "        child1 = parent1[:point] + parent2[point:]\n",
    "        child2 = parent2[:point] + parent1[point:]\n",
    "        return child1, child2\n",
    "    else:\n",
    "        return parent1, parent2\n"
   ],
   "metadata": {
    "collapsed": false,
    "ExecuteTime": {
     "end_time": "2023-10-23T03:20:14.314481600Z",
     "start_time": "2023-10-23T03:20:14.262107900Z"
    }
   },
   "id": "14f08df2b3c8bde5"
  },
  {
   "cell_type": "markdown",
   "source": [
    "#### Selection function"
   ],
   "metadata": {
    "collapsed": false
   },
   "id": "e6823260d5a66566"
  },
  {
   "cell_type": "code",
   "execution_count": 48,
   "outputs": [],
   "source": [
    "def selection(population):\n",
    "    selected = []\n",
    "    pop_fitness = [fitness(p) for p in population]\n",
    "    total_fitness = sum(pop_fitness)\n",
    "    for i in range(0, POP_SIZE, 2):\n",
    "        parents = random.choices(population, weights=pop_fitness, k=2)\n",
    "        children = crossover(parents[0], parents[1])\n",
    "        selected.extend(children)\n",
    "    \n",
    "    return selected\n"
   ],
   "metadata": {
    "collapsed": false,
    "ExecuteTime": {
     "end_time": "2023-10-23T03:20:14.314481600Z",
     "start_time": "2023-10-23T03:20:14.267604800Z"
    }
   },
   "id": "fe756742fda3e34f"
  },
  {
   "cell_type": "markdown",
   "source": [
    "#### Genetic algorithm"
   ],
   "metadata": {
    "collapsed": false
   },
   "id": "31a883deaf5580ce"
  },
  {
   "cell_type": "code",
   "execution_count": 49,
   "outputs": [],
   "source": [
    "def genetic_algorithm():\n",
    "    # Initialize population\n",
    "    population = [[random.randint(0, 1) for _ in range(10)] for _ in range(POP_SIZE)]\n",
    "    print(\"Initial Population:\")\n",
    "    for i in range(POP_SIZE):\n",
    "        print(f\"Chromosome {i}: {population[i]}\")\n",
    "        \n",
    "    print(\"\\nRunning Genetic Algorithm...\\n\")\n",
    "\n",
    "    # Lists to store fitness data\n",
    "    best_fitnesses = []\n",
    "    avg_fitnesses = []\n",
    "    worst_fitnesses = []\n",
    "\n",
    "    for generation in range(MAX_GENERATIONS):\n",
    "        population = selection(population)\n",
    "        for i in range(POP_SIZE):\n",
    "            population[i] = mutate(population[i])\n",
    "\n",
    "        # Collect fitness data\n",
    "        best_fitnesses.append(max([fitness(ind) for ind in population]))\n",
    "        avg_fitnesses.append(sum([fitness(ind) for ind in population]) / POP_SIZE)\n",
    "        worst_fitnesses.append(min([fitness(ind) for ind in population]))\n",
    "\n",
    "        # Print best solution of this generation (optional)\n",
    "        best_chromosome = max(population, key=fitness)\n",
    "        if generation % 100 == 0 or generation == MAX_GENERATIONS - 1:\n",
    "            print(f\"Generation {generation}: Value = {fitness(best_chromosome)} || Items = {best_chromosome}\")\n",
    "\n",
    "    all_fitness_data = {\n",
    "        \"best_fitnesses\": best_fitnesses,\n",
    "        \"avg_fitnesses\": avg_fitnesses,\n",
    "        \"worst_fitnesses\": worst_fitnesses\n",
    "    }\n",
    "    return max(population, key=fitness), all_fitness_data\n"
   ],
   "metadata": {
    "collapsed": false,
    "ExecuteTime": {
     "end_time": "2023-10-23T03:20:14.314481600Z",
     "start_time": "2023-10-23T03:20:14.283234100Z"
    }
   },
   "id": "83dd16ea7a787858"
  },
  {
   "cell_type": "code",
   "execution_count": 50,
   "outputs": [
    {
     "name": "stdout",
     "output_type": "stream",
     "text": [
      "Initial Population:\n",
      "Chromosome 0: [1, 0, 1, 0, 0, 1, 0, 0, 0, 0]\n",
      "Chromosome 1: [1, 0, 1, 0, 1, 0, 1, 0, 0, 0]\n",
      "Chromosome 2: [0, 1, 0, 1, 1, 0, 0, 1, 0, 0]\n",
      "Chromosome 3: [1, 1, 0, 0, 0, 1, 0, 1, 0, 1]\n",
      "Chromosome 4: [0, 0, 1, 0, 1, 1, 0, 1, 1, 1]\n",
      "Chromosome 5: [1, 0, 0, 0, 0, 1, 0, 1, 0, 0]\n",
      "Chromosome 6: [1, 1, 0, 0, 1, 0, 0, 0, 0, 1]\n",
      "Chromosome 7: [1, 0, 1, 0, 1, 1, 0, 1, 0, 0]\n",
      "Chromosome 8: [1, 1, 1, 0, 1, 1, 1, 1, 1, 0]\n",
      "Chromosome 9: [1, 1, 1, 0, 0, 0, 1, 1, 0, 1]\n",
      "Chromosome 10: [1, 0, 0, 0, 0, 1, 1, 1, 1, 1]\n",
      "Chromosome 11: [1, 1, 1, 1, 0, 1, 1, 0, 0, 1]\n",
      "Chromosome 12: [1, 0, 0, 1, 0, 0, 0, 0, 0, 1]\n",
      "Chromosome 13: [0, 0, 1, 1, 0, 1, 1, 0, 0, 0]\n",
      "Chromosome 14: [0, 0, 1, 1, 0, 0, 0, 1, 1, 0]\n",
      "Chromosome 15: [0, 1, 0, 0, 0, 0, 1, 1, 0, 0]\n",
      "Chromosome 16: [0, 1, 1, 0, 1, 1, 1, 0, 0, 0]\n",
      "Chromosome 17: [0, 0, 1, 0, 1, 0, 0, 0, 0, 1]\n",
      "Chromosome 18: [1, 0, 1, 0, 0, 0, 0, 0, 0, 0]\n",
      "Chromosome 19: [1, 0, 0, 0, 1, 1, 1, 0, 1, 1]\n",
      "Chromosome 20: [1, 0, 0, 1, 1, 0, 0, 0, 0, 1]\n",
      "Chromosome 21: [0, 1, 0, 0, 1, 0, 1, 1, 1, 0]\n",
      "Chromosome 22: [0, 1, 1, 1, 1, 1, 0, 1, 0, 1]\n",
      "Chromosome 23: [0, 1, 1, 0, 0, 1, 0, 0, 1, 0]\n",
      "Chromosome 24: [1, 0, 1, 1, 0, 1, 1, 0, 1, 0]\n",
      "Chromosome 25: [1, 0, 0, 0, 1, 1, 0, 0, 1, 0]\n",
      "Chromosome 26: [0, 0, 0, 0, 1, 0, 1, 0, 1, 1]\n",
      "Chromosome 27: [0, 1, 1, 1, 1, 1, 1, 1, 1, 0]\n",
      "Chromosome 28: [1, 1, 1, 0, 0, 0, 1, 1, 1, 1]\n",
      "Chromosome 29: [1, 0, 1, 1, 1, 1, 1, 1, 1, 1]\n",
      "Chromosome 30: [0, 0, 1, 0, 0, 0, 0, 1, 0, 1]\n",
      "Chromosome 31: [0, 0, 0, 0, 1, 0, 0, 1, 1, 1]\n",
      "Chromosome 32: [1, 1, 1, 0, 0, 0, 0, 1, 0, 0]\n",
      "Chromosome 33: [1, 0, 0, 0, 0, 0, 1, 1, 0, 1]\n",
      "Chromosome 34: [0, 1, 1, 1, 0, 0, 0, 1, 1, 0]\n",
      "Chromosome 35: [1, 1, 1, 1, 1, 1, 1, 0, 0, 1]\n",
      "Chromosome 36: [0, 0, 1, 0, 1, 1, 1, 0, 0, 1]\n",
      "Chromosome 37: [1, 0, 0, 1, 0, 1, 0, 0, 0, 0]\n",
      "Chromosome 38: [1, 0, 1, 1, 1, 0, 0, 0, 1, 1]\n",
      "Chromosome 39: [0, 0, 1, 1, 1, 0, 1, 0, 1, 1]\n",
      "Chromosome 40: [1, 1, 1, 0, 0, 1, 1, 1, 1, 0]\n",
      "Chromosome 41: [1, 0, 1, 1, 1, 1, 0, 1, 0, 0]\n",
      "Chromosome 42: [1, 1, 0, 1, 1, 0, 0, 1, 0, 0]\n",
      "Chromosome 43: [1, 0, 1, 0, 1, 0, 0, 1, 1, 0]\n",
      "Chromosome 44: [0, 1, 1, 0, 1, 1, 0, 1, 0, 1]\n",
      "Chromosome 45: [1, 0, 0, 0, 0, 1, 1, 0, 1, 0]\n",
      "Chromosome 46: [1, 0, 0, 0, 1, 0, 0, 1, 0, 0]\n",
      "Chromosome 47: [0, 0, 0, 0, 0, 1, 1, 0, 0, 0]\n",
      "Chromosome 48: [1, 0, 0, 1, 1, 0, 0, 1, 1, 1]\n",
      "Chromosome 49: [0, 1, 0, 1, 1, 0, 1, 1, 1, 1]\n",
      "Chromosome 50: [1, 1, 0, 1, 0, 0, 1, 0, 0, 0]\n",
      "Chromosome 51: [0, 1, 1, 1, 1, 1, 1, 1, 0, 0]\n",
      "Chromosome 52: [0, 1, 0, 0, 0, 1, 1, 0, 1, 1]\n",
      "Chromosome 53: [0, 1, 1, 0, 1, 1, 1, 0, 1, 1]\n",
      "Chromosome 54: [1, 1, 1, 1, 0, 1, 1, 1, 0, 0]\n",
      "Chromosome 55: [1, 1, 1, 0, 1, 1, 1, 0, 1, 0]\n",
      "Chromosome 56: [0, 0, 1, 1, 1, 1, 1, 1, 0, 0]\n",
      "Chromosome 57: [1, 1, 0, 1, 1, 0, 1, 0, 1, 0]\n",
      "Chromosome 58: [1, 1, 0, 1, 0, 1, 0, 1, 1, 0]\n",
      "Chromosome 59: [1, 1, 1, 1, 0, 1, 1, 1, 1, 1]\n",
      "Chromosome 60: [1, 1, 0, 1, 0, 0, 0, 1, 0, 0]\n",
      "Chromosome 61: [1, 1, 0, 1, 0, 1, 1, 1, 1, 1]\n",
      "Chromosome 62: [1, 1, 0, 0, 1, 0, 1, 1, 0, 0]\n",
      "Chromosome 63: [1, 0, 0, 0, 1, 1, 0, 0, 1, 1]\n",
      "Chromosome 64: [1, 1, 0, 1, 0, 0, 1, 1, 1, 0]\n",
      "Chromosome 65: [1, 1, 1, 1, 1, 0, 0, 0, 1, 0]\n",
      "Chromosome 66: [1, 1, 1, 0, 1, 0, 1, 0, 0, 1]\n",
      "Chromosome 67: [0, 0, 0, 0, 0, 1, 0, 1, 1, 0]\n",
      "Chromosome 68: [1, 0, 0, 0, 0, 0, 0, 0, 0, 1]\n",
      "Chromosome 69: [1, 0, 0, 1, 1, 0, 0, 1, 1, 1]\n",
      "Chromosome 70: [1, 0, 0, 0, 0, 1, 0, 0, 1, 0]\n",
      "Chromosome 71: [1, 0, 1, 0, 1, 0, 1, 0, 0, 1]\n",
      "Chromosome 72: [1, 0, 0, 0, 1, 1, 1, 0, 1, 0]\n",
      "Chromosome 73: [0, 1, 1, 0, 0, 0, 1, 1, 1, 0]\n",
      "Chromosome 74: [0, 1, 0, 1, 0, 0, 0, 0, 1, 1]\n",
      "Chromosome 75: [0, 0, 1, 0, 0, 0, 1, 1, 0, 0]\n",
      "Chromosome 76: [0, 0, 1, 1, 0, 0, 1, 0, 1, 1]\n",
      "Chromosome 77: [0, 0, 0, 0, 0, 1, 1, 0, 0, 1]\n",
      "Chromosome 78: [0, 1, 0, 0, 1, 0, 0, 1, 1, 0]\n",
      "Chromosome 79: [0, 0, 1, 1, 0, 0, 1, 1, 0, 0]\n",
      "Chromosome 80: [1, 0, 1, 1, 1, 1, 1, 1, 1, 0]\n",
      "Chromosome 81: [1, 0, 0, 0, 0, 0, 1, 0, 1, 1]\n",
      "Chromosome 82: [0, 1, 0, 1, 1, 1, 0, 1, 0, 0]\n",
      "Chromosome 83: [0, 1, 1, 0, 1, 0, 0, 0, 1, 1]\n",
      "Chromosome 84: [0, 1, 0, 0, 0, 0, 0, 0, 0, 1]\n",
      "Chromosome 85: [1, 0, 0, 1, 1, 1, 1, 1, 0, 0]\n",
      "Chromosome 86: [0, 0, 1, 0, 1, 0, 0, 1, 1, 0]\n",
      "Chromosome 87: [1, 0, 1, 1, 1, 1, 1, 0, 1, 0]\n",
      "Chromosome 88: [1, 1, 1, 0, 0, 0, 0, 1, 1, 1]\n",
      "Chromosome 89: [1, 1, 1, 1, 0, 1, 0, 0, 0, 1]\n",
      "Chromosome 90: [1, 1, 1, 1, 1, 1, 1, 0, 0, 1]\n",
      "Chromosome 91: [1, 0, 1, 0, 0, 0, 0, 1, 0, 1]\n",
      "Chromosome 92: [1, 0, 1, 1, 1, 1, 0, 1, 0, 1]\n",
      "Chromosome 93: [0, 1, 0, 1, 1, 1, 0, 0, 1, 1]\n",
      "Chromosome 94: [1, 1, 0, 1, 1, 0, 1, 0, 1, 0]\n",
      "Chromosome 95: [0, 0, 1, 1, 0, 1, 0, 1, 0, 0]\n",
      "Chromosome 96: [0, 1, 0, 1, 1, 0, 1, 1, 1, 1]\n",
      "Chromosome 97: [0, 1, 0, 0, 0, 1, 1, 0, 0, 0]\n",
      "Chromosome 98: [0, 1, 0, 1, 0, 0, 1, 1, 0, 0]\n",
      "Chromosome 99: [0, 1, 1, 0, 0, 1, 1, 1, 1, 1]\n",
      "\n",
      "Running Genetic Algorithm...\n",
      "\n",
      "Generation 0: Value = 215 || Items = [0, 1, 1, 1, 1, 0, 1, 0, 1, 1]\n",
      "Generation 100: Value = 220 || Items = [0, 1, 1, 1, 1, 1, 1, 0, 0, 0]\n",
      "Generation 200: Value = 220 || Items = [0, 1, 1, 1, 1, 1, 1, 0, 0, 0]\n",
      "Generation 300: Value = 220 || Items = [0, 1, 1, 1, 1, 1, 1, 0, 0, 0]\n",
      "Generation 400: Value = 215 || Items = [0, 1, 1, 0, 1, 1, 1, 1, 0, 1]\n",
      "Generation 500: Value = 220 || Items = [0, 1, 1, 1, 1, 1, 1, 0, 0, 0]\n",
      "Generation 600: Value = 215 || Items = [1, 1, 1, 0, 1, 1, 1, 0, 0, 1]\n",
      "Generation 700: Value = 215 || Items = [0, 1, 1, 0, 1, 1, 1, 1, 0, 1]\n",
      "Generation 800: Value = 220 || Items = [0, 1, 1, 1, 1, 1, 1, 0, 0, 0]\n",
      "Generation 900: Value = 220 || Items = [0, 1, 1, 1, 1, 1, 1, 0, 0, 0]\n",
      "Generation 999: Value = 220 || Items = [0, 1, 1, 1, 1, 1, 1, 0, 0, 0]\n",
      "Best Solution: Value = 220 || Items = [0, 1, 1, 1, 1, 1, 1, 0, 0, 0]\n"
     ]
    }
   ],
   "source": [
    "best_solution, all_fitness_data = genetic_algorithm()\n",
    "print(f\"Best Solution: Value = {fitness(best_solution)} || Items = {best_solution}\")\n"
   ],
   "metadata": {
    "collapsed": false,
    "ExecuteTime": {
     "end_time": "2023-10-23T03:20:15.004793200Z",
     "start_time": "2023-10-23T03:20:14.298871700Z"
    }
   },
   "id": "45f233581344f73b"
  },
  {
   "cell_type": "code",
   "execution_count": 51,
   "outputs": [
    {
     "data": {
      "text/plain": "<Figure size 640x480 with 1 Axes>",
      "image/png": "[encoded data removed]"
     },
     "metadata": {},
     "output_type": "display_data"
    }
   ],
   "source": [
    "# Plotting fitness data\n",
    "plt.plot(all_fitness_data[\"best_fitnesses\"], label='Best Fitness')\n",
    "plt.plot(all_fitness_data[\"avg_fitnesses\"], label='Average Fitness')\n",
    "plt.plot(all_fitness_data[\"worst_fitnesses\"], label='Worst Fitness')\n",
    "plt.xlabel('Generation')\n",
    "plt.ylabel('Fitness')\n",
    "plt.title('Fitness over Generations')\n",
    "plt.legend()\n",
    "plt.grid(True)\n",
    "plt.show()"
   ],
   "metadata": {
    "collapsed": false,
    "ExecuteTime": {
     "end_time": "2023-10-23T03:20:15.118131800Z",
     "start_time": "2023-10-23T03:20:15.004793200Z"
    }
   },
   "id": "25c3138c65f389a8"
  }
 ],
 "metadata": {
  "kernelspec": {
   "display_name": "Python 3",
   "language": "python",
   "name": "python3"
  },
  "language_info": {
   "codemirror_mode": {
    "name": "ipython",
    "version": 2
   },
   "file_extension": ".py",
   "mimetype": "text/x-python",
   "name": "python",
   "nbconvert_exporter": "python",
   "pygments_lexer": "ipython2",
   "version": "2.7.6"
  }
 },
 "nbformat": 4,
 "nbformat_minor": 5
}
